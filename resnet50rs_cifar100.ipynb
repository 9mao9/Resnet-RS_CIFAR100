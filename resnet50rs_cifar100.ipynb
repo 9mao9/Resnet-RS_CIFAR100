{
  "nbformat": 4,
  "nbformat_minor": 0,
  "metadata": {
    "colab": {
      "name": "resnet50rs_cifar100.ipynb",
      "provenance": [],
      "collapsed_sections": [],
      "include_colab_link": true
    },
    "kernelspec": {
      "name": "python3",
      "display_name": "Python 3"
    },
    "language_info": {
      "name": "python"
    },
    "accelerator": "GPU",
    "widgets": {
      "application/vnd.jupyter.widget-state+json": {
        "9278b3089f3544a1af6db1489bdbe4dd": {
          "model_module": "@jupyter-widgets/controls",
          "model_name": "HBoxModel",
          "model_module_version": "1.5.0",
          "state": {
            "_view_name": "HBoxView",
            "_dom_classes": [],
            "_model_name": "HBoxModel",
            "_view_module": "@jupyter-widgets/controls",
            "_model_module_version": "1.5.0",
            "_view_count": null,
            "_view_module_version": "1.5.0",
            "box_style": "",
            "layout": "IPY_MODEL_69d565df46f54646a572355dd3cb74f1",
            "_model_module": "@jupyter-widgets/controls",
            "children": [
              "IPY_MODEL_b33d09bc09b24b6fb3ffdeb84e275ab2",
              "IPY_MODEL_f6b644089649491f9b279c7148815aab",
              "IPY_MODEL_e7027965eef043a1b318393703325d3a"
            ]
          }
        },
        "69d565df46f54646a572355dd3cb74f1": {
          "model_module": "@jupyter-widgets/base",
          "model_name": "LayoutModel",
          "model_module_version": "1.2.0",
          "state": {
            "_view_name": "LayoutView",
            "grid_template_rows": null,
            "right": null,
            "justify_content": null,
            "_view_module": "@jupyter-widgets/base",
            "overflow": null,
            "_model_module_version": "1.2.0",
            "_view_count": null,
            "flex_flow": null,
            "width": null,
            "min_width": null,
            "border": null,
            "align_items": null,
            "bottom": null,
            "_model_module": "@jupyter-widgets/base",
            "top": null,
            "grid_column": null,
            "overflow_y": null,
            "overflow_x": null,
            "grid_auto_flow": null,
            "grid_area": null,
            "grid_template_columns": null,
            "flex": null,
            "_model_name": "LayoutModel",
            "justify_items": null,
            "grid_row": null,
            "max_height": null,
            "align_content": null,
            "visibility": null,
            "align_self": null,
            "height": null,
            "min_height": null,
            "padding": null,
            "grid_auto_rows": null,
            "grid_gap": null,
            "max_width": null,
            "order": null,
            "_view_module_version": "1.2.0",
            "grid_template_areas": null,
            "object_position": null,
            "object_fit": null,
            "grid_auto_columns": null,
            "margin": null,
            "display": null,
            "left": null
          }
        },
        "b33d09bc09b24b6fb3ffdeb84e275ab2": {
          "model_module": "@jupyter-widgets/controls",
          "model_name": "HTMLModel",
          "model_module_version": "1.5.0",
          "state": {
            "_view_name": "HTMLView",
            "style": "IPY_MODEL_c3eb102f4f3c45b688c6c126a4b65e0d",
            "_dom_classes": [],
            "description": "",
            "_model_name": "HTMLModel",
            "placeholder": "​",
            "_view_module": "@jupyter-widgets/controls",
            "_model_module_version": "1.5.0",
            "value": "",
            "_view_count": null,
            "_view_module_version": "1.5.0",
            "description_tooltip": null,
            "_model_module": "@jupyter-widgets/controls",
            "layout": "IPY_MODEL_fc93bb6e52cd486eb6eca0ad4a750429"
          }
        },
        "f6b644089649491f9b279c7148815aab": {
          "model_module": "@jupyter-widgets/controls",
          "model_name": "FloatProgressModel",
          "model_module_version": "1.5.0",
          "state": {
            "_view_name": "ProgressView",
            "style": "IPY_MODEL_c4ed27827d77460ba5e0a6c1a9102a33",
            "_dom_classes": [],
            "description": "",
            "_model_name": "FloatProgressModel",
            "bar_style": "success",
            "max": 169001437,
            "_view_module": "@jupyter-widgets/controls",
            "_model_module_version": "1.5.0",
            "value": 169001437,
            "_view_count": null,
            "_view_module_version": "1.5.0",
            "orientation": "horizontal",
            "min": 0,
            "description_tooltip": null,
            "_model_module": "@jupyter-widgets/controls",
            "layout": "IPY_MODEL_601798f3478d4137b8053d94c0f92df8"
          }
        },
        "e7027965eef043a1b318393703325d3a": {
          "model_module": "@jupyter-widgets/controls",
          "model_name": "HTMLModel",
          "model_module_version": "1.5.0",
          "state": {
            "_view_name": "HTMLView",
            "style": "IPY_MODEL_3a6600a6abda4b02a0639de30ef14f6b",
            "_dom_classes": [],
            "description": "",
            "_model_name": "HTMLModel",
            "placeholder": "​",
            "_view_module": "@jupyter-widgets/controls",
            "_model_module_version": "1.5.0",
            "value": " 169001984/? [00:01&lt;00:00, 92937971.16it/s]",
            "_view_count": null,
            "_view_module_version": "1.5.0",
            "description_tooltip": null,
            "_model_module": "@jupyter-widgets/controls",
            "layout": "IPY_MODEL_27c60f25021f4ca8b4f8bcc7a7dde140"
          }
        },
        "c3eb102f4f3c45b688c6c126a4b65e0d": {
          "model_module": "@jupyter-widgets/controls",
          "model_name": "DescriptionStyleModel",
          "model_module_version": "1.5.0",
          "state": {
            "_view_name": "StyleView",
            "_model_name": "DescriptionStyleModel",
            "description_width": "",
            "_view_module": "@jupyter-widgets/base",
            "_model_module_version": "1.5.0",
            "_view_count": null,
            "_view_module_version": "1.2.0",
            "_model_module": "@jupyter-widgets/controls"
          }
        },
        "fc93bb6e52cd486eb6eca0ad4a750429": {
          "model_module": "@jupyter-widgets/base",
          "model_name": "LayoutModel",
          "model_module_version": "1.2.0",
          "state": {
            "_view_name": "LayoutView",
            "grid_template_rows": null,
            "right": null,
            "justify_content": null,
            "_view_module": "@jupyter-widgets/base",
            "overflow": null,
            "_model_module_version": "1.2.0",
            "_view_count": null,
            "flex_flow": null,
            "width": null,
            "min_width": null,
            "border": null,
            "align_items": null,
            "bottom": null,
            "_model_module": "@jupyter-widgets/base",
            "top": null,
            "grid_column": null,
            "overflow_y": null,
            "overflow_x": null,
            "grid_auto_flow": null,
            "grid_area": null,
            "grid_template_columns": null,
            "flex": null,
            "_model_name": "LayoutModel",
            "justify_items": null,
            "grid_row": null,
            "max_height": null,
            "align_content": null,
            "visibility": null,
            "align_self": null,
            "height": null,
            "min_height": null,
            "padding": null,
            "grid_auto_rows": null,
            "grid_gap": null,
            "max_width": null,
            "order": null,
            "_view_module_version": "1.2.0",
            "grid_template_areas": null,
            "object_position": null,
            "object_fit": null,
            "grid_auto_columns": null,
            "margin": null,
            "display": null,
            "left": null
          }
        },
        "c4ed27827d77460ba5e0a6c1a9102a33": {
          "model_module": "@jupyter-widgets/controls",
          "model_name": "ProgressStyleModel",
          "model_module_version": "1.5.0",
          "state": {
            "_view_name": "StyleView",
            "_model_name": "ProgressStyleModel",
            "description_width": "",
            "_view_module": "@jupyter-widgets/base",
            "_model_module_version": "1.5.0",
            "_view_count": null,
            "_view_module_version": "1.2.0",
            "bar_color": null,
            "_model_module": "@jupyter-widgets/controls"
          }
        },
        "601798f3478d4137b8053d94c0f92df8": {
          "model_module": "@jupyter-widgets/base",
          "model_name": "LayoutModel",
          "model_module_version": "1.2.0",
          "state": {
            "_view_name": "LayoutView",
            "grid_template_rows": null,
            "right": null,
            "justify_content": null,
            "_view_module": "@jupyter-widgets/base",
            "overflow": null,
            "_model_module_version": "1.2.0",
            "_view_count": null,
            "flex_flow": null,
            "width": null,
            "min_width": null,
            "border": null,
            "align_items": null,
            "bottom": null,
            "_model_module": "@jupyter-widgets/base",
            "top": null,
            "grid_column": null,
            "overflow_y": null,
            "overflow_x": null,
            "grid_auto_flow": null,
            "grid_area": null,
            "grid_template_columns": null,
            "flex": null,
            "_model_name": "LayoutModel",
            "justify_items": null,
            "grid_row": null,
            "max_height": null,
            "align_content": null,
            "visibility": null,
            "align_self": null,
            "height": null,
            "min_height": null,
            "padding": null,
            "grid_auto_rows": null,
            "grid_gap": null,
            "max_width": null,
            "order": null,
            "_view_module_version": "1.2.0",
            "grid_template_areas": null,
            "object_position": null,
            "object_fit": null,
            "grid_auto_columns": null,
            "margin": null,
            "display": null,
            "left": null
          }
        },
        "3a6600a6abda4b02a0639de30ef14f6b": {
          "model_module": "@jupyter-widgets/controls",
          "model_name": "DescriptionStyleModel",
          "model_module_version": "1.5.0",
          "state": {
            "_view_name": "StyleView",
            "_model_name": "DescriptionStyleModel",
            "description_width": "",
            "_view_module": "@jupyter-widgets/base",
            "_model_module_version": "1.5.0",
            "_view_count": null,
            "_view_module_version": "1.2.0",
            "_model_module": "@jupyter-widgets/controls"
          }
        },
        "27c60f25021f4ca8b4f8bcc7a7dde140": {
          "model_module": "@jupyter-widgets/base",
          "model_name": "LayoutModel",
          "model_module_version": "1.2.0",
          "state": {
            "_view_name": "LayoutView",
            "grid_template_rows": null,
            "right": null,
            "justify_content": null,
            "_view_module": "@jupyter-widgets/base",
            "overflow": null,
            "_model_module_version": "1.2.0",
            "_view_count": null,
            "flex_flow": null,
            "width": null,
            "min_width": null,
            "border": null,
            "align_items": null,
            "bottom": null,
            "_model_module": "@jupyter-widgets/base",
            "top": null,
            "grid_column": null,
            "overflow_y": null,
            "overflow_x": null,
            "grid_auto_flow": null,
            "grid_area": null,
            "grid_template_columns": null,
            "flex": null,
            "_model_name": "LayoutModel",
            "justify_items": null,
            "grid_row": null,
            "max_height": null,
            "align_content": null,
            "visibility": null,
            "align_self": null,
            "height": null,
            "min_height": null,
            "padding": null,
            "grid_auto_rows": null,
            "grid_gap": null,
            "max_width": null,
            "order": null,
            "_view_module_version": "1.2.0",
            "grid_template_areas": null,
            "object_position": null,
            "object_fit": null,
            "grid_auto_columns": null,
            "margin": null,
            "display": null,
            "left": null
          }
        }
      }
    }
  },
  "cells": [
    {
      "cell_type": "markdown",
      "metadata": {
        "id": "view-in-github",
        "colab_type": "text"
      },
      "source": [
        "<a href=\"https://colab.research.google.com/github/9mao9/Resnet-RS_CIFAR100/blob/main/resnet50rs_cifar100.ipynb\" target=\"_parent\"><img src=\"https://colab.research.google.com/assets/colab-badge.svg\" alt=\"Open In Colab\"/></a>"
      ]
    },
    {
      "cell_type": "code",
      "metadata": {
        "id": "FZSQC7bxy3IJ"
      },
      "source": [
        "import numpy as np\n",
        "import torch\n",
        "import torch.nn as nn\n",
        "import torch.optim as optimizers\n",
        "import torch.nn.functional as F\n",
        "from torch.utils.data import Dataset, DataLoader\n",
        "import torchvision\n",
        "import torchvision.transforms as transforms\n",
        "from sklearn.metrics import accuracy_score"
      ],
      "execution_count": null,
      "outputs": []
    },
    {
      "cell_type": "markdown",
      "source": [
        "#**Network model**"
      ],
      "metadata": {
        "id": "U9vX6c0ShzHG"
      }
    },
    {
      "cell_type": "code",
      "metadata": {
        "id": "yB4Ku66rISst"
      },
      "source": [
        "class ResNet50rs(nn.Module):\n",
        "  def __init__(self, output_dim):\n",
        "    super(ResNet50rs, self).__init__()\n",
        "    self.stem = StemBlock(channel_in=3, channel_out=64)\n",
        "\n",
        "    # Block 1\n",
        "    self.id1 = Block(channel_in=64, channel_out=256, stride=2, identity=True)\n",
        "    self.block1 = nn.ModuleList([Block(channel_in=256, channel_out=256, stride=1, identity=False) for _ in range(2)])\n",
        "\n",
        "    # Block 2\n",
        "    self.id2 = Block(channel_in=256, channel_out=512, stride=2, identity=True)\n",
        "    self.block2 = nn.ModuleList([Block(channel_in=512, channel_out=512, stride=1, identity=False) for _ in range(3)])\n",
        "\n",
        "    # Block 3\n",
        "    self.id3 = Block(channel_in=512, channel_out=1024, stride=2, identity=True)\n",
        "    self.block3 = nn.ModuleList([Block(channel_in=1024, channel_out=1024, stride=1, identity=False) for _ in range(5)])\n",
        "\n",
        "    # Block 4\n",
        "    self.id4 = Block(channel_in=1024, channel_out=2048, stride=2, identity=True)\n",
        "    self.block4 = nn.ModuleList([Block(channel_in=2048, channel_out=2048, stride=1, identity=False) for _ in range(2)])\n",
        "    self.avg_pool = GlobalAvgPool2d()\n",
        "    self.dropout = nn.Dropout(p=0.25)\n",
        "    self.fc = nn.Linear(2048, output_dim, bias=False)\n",
        "\n",
        "  def forward(self, x):\n",
        "    h = self.stem(x)\n",
        "    h = self.id1(h)\n",
        "    for block in self.block1:\n",
        "      h = block(h)\n",
        "    h = self.id2(h)\n",
        "    for block in self.block2:\n",
        "      h = block(h)\n",
        "    h = self.id3(h)\n",
        "    for block in self.block3:\n",
        "      h = block(h)\n",
        "    h = self.id4(h)\n",
        "    for block in self.block4:\n",
        "      h = block(h)\n",
        "    h = self.avg_pool(h)\n",
        "    h = self.dropout(h)\n",
        "    h = torch.relu(h)\n",
        "    h = self.fc(h)\n",
        "    y = torch.log_softmax(h, dim=-1)\n",
        "    return y"
      ],
      "execution_count": null,
      "outputs": []
    },
    {
      "cell_type": "code",
      "source": [
        "class StemBlock(nn.Module):\n",
        "  def __init__(self, channel_in, channel_out):\n",
        "    super(StemBlock, self).__init__()\n",
        "    channel =int(channel_out / 2)\n",
        "\n",
        "    self.stem = nn.Sequential(nn.Conv2d(channel_in, channel, kernel_size=(3, 3), stride=2, padding=1),\n",
        "                              nn.BatchNorm2d(channel),\n",
        "                              nn.ReLU(inplace=True),\n",
        "                              nn.Conv2d(channel, channel, kernel_size=(3, 3), stride=1, padding=1),\n",
        "                              nn.BatchNorm2d(channel),\n",
        "                              nn.ReLU(inplace=True),\n",
        "                              nn.Conv2d(channel, channel_out, kernel_size=(3, 3), stride=1, padding=1))\n",
        "    self.init_weights()\n",
        "  \n",
        "  def init_weights(self):\n",
        "    for _, module in self.named_modules():\n",
        "      if isinstance(module, nn.Conv2d):\n",
        "        nn.init.kaiming_normal_(module.weight, mode='fan_in', nonlinearity='relu')\n",
        "      if isinstance(module, nn.BatchNorm2d):\n",
        "        nn.init.ones_(module.weight)\n",
        "        nn.init.zeros_(module.bias)\n",
        "  \n",
        "  def forward(self, x):\n",
        "    return self.stem(x)"
      ],
      "metadata": {
        "id": "Ovy_2rwPQ17T"
      },
      "execution_count": null,
      "outputs": []
    },
    {
      "cell_type": "code",
      "metadata": {
        "id": "cHgj1iFAIUb1"
      },
      "source": [
        "class Block(nn.Module):\n",
        "  def __init__(self, channel_in, channel_out, stride, identity):\n",
        "    super(Block, self).__init__()\n",
        "    channel = int(channel_out / 4)\n",
        "    self.se = SEBlock(channel_in)\n",
        "\n",
        "    # 1x1 conv\n",
        "    self.bn1 = nn.BatchNorm2d(channel_in)\n",
        "    self.relu1 = nn.ReLU()\n",
        "    self.conv1 = nn.Conv2d(channel_in, channel, kernel_size=(1, 1))\n",
        "    \n",
        "    # 3x3 conv\n",
        "    self.bn2 = nn.BatchNorm2d(channel)\n",
        "    self.relu2 = nn.ReLU()\n",
        "    self.conv2 = nn.Conv2d(channel, channel, kernel_size=(3, 3), stride=stride, padding=1)\n",
        "    \n",
        "    # 1x1 conv\n",
        "    self.bn3 = nn.BatchNorm2d(channel)\n",
        "    self.drop_out = DropPath(drop_prob=0.)\n",
        "    self.conv3 = nn.Conv2d(channel, channel_out, kernel_size=(1, 1))\n",
        "    \n",
        "    # skip connection\n",
        "    self.identity = identity\n",
        "    self.downsample = DownSample(channel_in, channel_out, stride)\n",
        "    self.init_weights()\n",
        "\n",
        "  def init_weights(self):\n",
        "    for _, module in self.named_modules():\n",
        "            if isinstance(module, nn.Conv2d):\n",
        "                nn.init.kaiming_normal_(module.weight, mode='fan_in', nonlinearity='relu')\n",
        "            if isinstance(module, nn.BatchNorm2d):\n",
        "                nn.init.ones_(module.weight)\n",
        "                nn.init.zeros_(module.bias)\n",
        "\n",
        "  def forward(self, x):\n",
        "    h = self.se(x)\n",
        "    h = self.bn1(h)\n",
        "    h = self.relu1(h)\n",
        "    h = self.conv1(h)\n",
        "    h = self.bn2(h)\n",
        "    h = self.relu2(h)\n",
        "    h = self.conv2(h)\n",
        "    h = self.bn3(h)\n",
        "    h = self.drop_out(h)\n",
        "    h = self.conv3(h)\n",
        "    shortcut = self.downsample(x) if self.identity else x\n",
        "    y = h + shortcut\n",
        "    return y"
      ],
      "execution_count": null,
      "outputs": []
    },
    {
      "cell_type": "code",
      "source": [
        "class SEBlock(nn.Module):\n",
        "  def __init__(self, channel, ratio=0.25):\n",
        "    super(SEBlock, self).__init__()\n",
        "    reduced_channel = int(channel * ratio)\n",
        "    self.avg_pool = nn.AdaptiveAvgPool2d(1)\n",
        "    self.fc = nn.Sequential(nn.Linear(channel, reduced_channel, bias=False),\n",
        "                            nn.ReLU(inplace=True),\n",
        "                            nn.Linear(reduced_channel, channel, bias=False),\n",
        "                            nn.Sigmoid())\n",
        "\n",
        "  def forward(self, x):\n",
        "    b, c, _, _ = x.size()\n",
        "    y = self.avg_pool(x).view(b, c)\n",
        "    y = self.fc(y).view(b, c, 1, 1)\n",
        "    return x * y.expand_as(x)"
      ],
      "metadata": {
        "id": "-8hpOw5Twl70"
      },
      "execution_count": null,
      "outputs": []
    },
    {
      "cell_type": "code",
      "source": [
        "class DropPath(nn.Module):\n",
        "  def __init__(self, drop_prob=None):\n",
        "    super(DropPath, self).__init__()\n",
        "    self.drop_prob = drop_prob\n",
        "\n",
        "  def forward(self, x):\n",
        "    if self.drop_prob is None or self.drop_prob == 0 or not self.training:\n",
        "      return x\n",
        "    keep_prob = 1 - self.drop_prob\n",
        "    shape = (x.shape[0], ) + (1, ) * (x.ndim - 1)\n",
        "    rand_tensor = keep_prob + torch.rand(shape, dtype=x.dtype, device=x.device)\n",
        "    rand_tensor = rand_tensor.floor_()\n",
        "    out = x.div(keep_prob) * rand_tensor\n",
        "    return out"
      ],
      "metadata": {
        "id": "c4X0KKwzbxh2"
      },
      "execution_count": null,
      "outputs": []
    },
    {
      "cell_type": "code",
      "source": [
        "class DownSample(nn.Module):\n",
        "  def __init__(self, channel_in, channel_out, stride):\n",
        "    super(DownSample, self).__init__()\n",
        "    if stride == 1:\n",
        "      avg_pool = nn.Identity()\n",
        "    else:\n",
        "      avg_pool = nn.AvgPool2d(kernel_size=2, stride=stride)\n",
        "    self.downsample = nn.Sequential(avg_pool, nn.Conv2d(channel_in, channel_out, kernel_size=(1, 1)))\n",
        "\n",
        "  def forward(self, x):\n",
        "    return self.downsample(x)"
      ],
      "metadata": {
        "id": "ChUqtg5gbzl_"
      },
      "execution_count": null,
      "outputs": []
    },
    {
      "cell_type": "code",
      "metadata": {
        "id": "3g3CkT_gIZcX"
      },
      "source": [
        "class GlobalAvgPool2d(nn.Module):\n",
        "  def __init__(self, device='cuda'):\n",
        "    super(GlobalAvgPool2d, self).__init__()\n",
        "  def forward(self, x):\n",
        "    return F.avg_pool2d(x, kernel_size=x.size()[2:]).view(-1, x.size(1))"
      ],
      "execution_count": null,
      "outputs": []
    },
    {
      "cell_type": "markdown",
      "source": [
        "#Tensor size\n",
        "\n",
        "CNN networks are capable of adaptive to Image. Therefore, using pytorch library, you can show that tensor $h$ size is\n",
        "\n",
        "\n",
        "$$\n",
        "h = \\begin{bmatrix} batch size & channel & width & height \\end{bmatrix} \n",
        "$$\n",
        "\n",
        "$batch size$ is Neural Network minibatch, $channel$ is channel number, $width$ and $height$ are width and height of image source."
      ],
      "metadata": {
        "id": "GyPD3qng4CRK"
      }
    },
    {
      "cell_type": "markdown",
      "source": [
        "#**CIFAR-100**"
      ],
      "metadata": {
        "id": "tWLOTxGmiLoG"
      }
    },
    {
      "cell_type": "code",
      "metadata": {
        "colab": {
          "base_uri": "https://localhost:8080/",
          "height": 1000,
          "referenced_widgets": [
            "9278b3089f3544a1af6db1489bdbe4dd",
            "69d565df46f54646a572355dd3cb74f1",
            "b33d09bc09b24b6fb3ffdeb84e275ab2",
            "f6b644089649491f9b279c7148815aab",
            "e7027965eef043a1b318393703325d3a",
            "c3eb102f4f3c45b688c6c126a4b65e0d",
            "fc93bb6e52cd486eb6eca0ad4a750429",
            "c4ed27827d77460ba5e0a6c1a9102a33",
            "601798f3478d4137b8053d94c0f92df8",
            "3a6600a6abda4b02a0639de30ef14f6b",
            "27c60f25021f4ca8b4f8bcc7a7dde140"
          ]
        },
        "id": "sIJUc5boChkC",
        "outputId": "09689586-a1fa-4aeb-945c-46d9397008ff"
      },
      "source": [
        "if __name__ == '__main__':\n",
        "  np.random.seed(1234)\n",
        "  torch.manual_seed(1234)\n",
        "  device = torch.device('cuda' if torch.cuda.is_available() else 'cpu')\n",
        "  scaler = torch.cuda.amp.GradScaler()\n",
        "\n",
        "  cifar_classes = ['apple', 'aquarium_fish', 'baby', 'bear', 'beaver', 'bed', 'bee', 'beetle', \n",
        "    'bicycle', 'bottle', 'bowl', 'boy', 'bridge', 'bus', 'butterfly', 'camel', \n",
        "    'can', 'castle', 'caterpillar', 'cattle', 'chair', 'chimpanzee', 'clock', \n",
        "    'cloud', 'cockroach', 'couch', 'crab', 'crocodile', 'cup', 'dinosaur', \n",
        "    'dolphin', 'elephant', 'flatfish', 'forest', 'fox', 'girl', 'hamster', \n",
        "    'house', 'kangaroo', 'keyboard', 'lamp', 'lawn_mower', 'leopard', 'lion',\n",
        "    'lizard', 'lobster', 'man', 'maple_tree', 'motorcycle', 'mountain', 'mouse',\n",
        "    'mushroom', 'oak_tree', 'orange', 'orchid', 'otter', 'palm_tree', 'pear',\n",
        "    'pickup_truck', 'pine_tree', 'plain', 'plate', 'poppy', 'porcupine',\n",
        "    'possum', 'rabbit', 'raccoon', 'ray', 'road', 'rocket', 'rose',\n",
        "    'sea', 'seal', 'shark', 'shrew', 'skunk', 'skyscraper', 'snail', 'snake',\n",
        "    'spider', 'squirrel', 'streetcar', 'sunflower', 'sweet_pepper', 'table',\n",
        "    'tank', 'telephone', 'television', 'tiger', 'tractor', 'train', 'trout',\n",
        "    'tulip', 'turtle', 'wardrobe', 'whale', 'willow_tree', 'wolf', 'woman',\n",
        "    'worm']\n",
        "  \n",
        "  transform = transforms.Compose([transforms.Resize((160, 160)), transforms.RandAugment(magnitude=10), transforms.ToTensor()])\n",
        "  cifar_train = torchvision.datasets.CIFAR100(root=\"CIFAR100\", download=True, train=True, transform=transform)\n",
        "  cifar_val = torchvision.datasets.CIFAR100(root=\"CIFAR100\", download=True, train=False, transform=transform)\n",
        "  train_dataloader = DataLoader(cifar_train, batch_size=128, shuffle=True, num_workers=2, pin_memory=True, drop_last=True)\n",
        "  val_dataloader = DataLoader(cifar_val, batch_size=128, shuffle=False, num_workers=2, pin_memory=True, drop_last=True)\n",
        "\n",
        "  model = ResNet50rs(len(cifar_classes)).to(device)\n",
        "  \n",
        "  def compute_loss(label, pred):\n",
        "    return criterion(pred, label)\n",
        "\n",
        "  def train_step(x, t):\n",
        "    model.train()\n",
        "    with torch.cuda.amp.autocast():\n",
        "      preds = model(x)\n",
        "      loss = compute_loss(t, preds)\n",
        "    del preds, x, t\n",
        "    optimizer.zero_grad()\n",
        "    scaler.scale(loss).backward()\n",
        "    scaler.step(optimizer)\n",
        "    scaler.update()\n",
        "    return loss\n",
        "\n",
        "  def val_step(x, t):\n",
        "    model.eval()\n",
        "    with torch.cuda.amp.autocast():\n",
        "      preds = model(x)\n",
        "      loss = compute_loss(t, preds)\n",
        "    del x, t\n",
        "    return loss, preds\n",
        "\n",
        "  criterion = nn.NLLLoss()\n",
        "  log_prob = nn.LogSoftmax(dim=1)\n",
        "  optimizer = optimizers.SGD(model.parameters(),lr=0.00078125, momentum=0.9, weight_decay=4e-5)\n",
        "  epochs = 50\n",
        "  torch.backends.cudnn.benchmark = True\n",
        "\n",
        "  result_list = np.zeros(4)\n",
        "  for epoch in range(epochs):\n",
        "    train_loss = 0.\n",
        "    val_loss = 0.\n",
        "    val_acc = 0.\n",
        "\n",
        "    for(x, t) in train_dataloader:\n",
        "      x, t = x.to(device), t.to(device)\n",
        "      loss = train_step(x, t)\n",
        "      train_loss += loss.item()\n",
        "      del loss\n",
        "      torch.cuda.empty_cache()\n",
        "\n",
        "    train_loss /= len(train_dataloader)\n",
        "    print(\"Epoch: {}, Train Cost: {:.3f}\".format(epoch+1, train_loss))\n",
        "\n",
        "    with torch.inference_mode():\n",
        "      for (x, t) in val_dataloader:\n",
        "        x, t = x.to(device), t.to(device)\n",
        "        loss, preds = val_step(x, t)\n",
        "        val_loss += loss.item()\n",
        "        val_acc += accuracy_score(t.tolist(), preds.argmax(dim=-1).tolist())\n",
        "        del loss, preds\n",
        "        torch.cuda.empty_cache()\n",
        "\n",
        "    val_loss /= len(val_dataloader)\n",
        "    val_acc /= len(val_dataloader)\n",
        "    result_list = np.vstack((result_list, np.array([epoch+1, train_loss, val_loss, val_acc])))\n",
        "    print(\"Epoch: {}, Valid Cost: {:.3f}, Acc: {:.3f}\".format(epoch+1, val_loss, val_acc))"
      ],
      "execution_count": null,
      "outputs": [
        {
          "output_type": "stream",
          "name": "stdout",
          "text": [
            "Downloading https://www.cs.toronto.edu/~kriz/cifar-100-python.tar.gz to CIFAR100/cifar-100-python.tar.gz\n"
          ]
        },
        {
          "output_type": "display_data",
          "data": {
            "application/vnd.jupyter.widget-view+json": {
              "model_id": "9278b3089f3544a1af6db1489bdbe4dd",
              "version_minor": 0,
              "version_major": 2
            },
            "text/plain": [
              "  0%|          | 0/169001437 [00:00<?, ?it/s]"
            ]
          },
          "metadata": {}
        },
        {
          "output_type": "stream",
          "name": "stdout",
          "text": [
            "Extracting CIFAR100/cifar-100-python.tar.gz to CIFAR100\n",
            "Files already downloaded and verified\n",
            "Epoch: 1, Train Cost: 4.359\n",
            "Epoch: 1, Valid Cost: 4.022, Acc: 0.094\n",
            "Epoch: 2, Train Cost: 3.788\n",
            "Epoch: 2, Valid Cost: 3.678, Acc: 0.153\n",
            "Epoch: 3, Train Cost: 3.543\n",
            "Epoch: 3, Valid Cost: 3.455, Acc: 0.181\n",
            "Epoch: 4, Train Cost: 3.352\n",
            "Epoch: 4, Valid Cost: 3.373, Acc: 0.202\n",
            "Epoch: 5, Train Cost: 3.190\n",
            "Epoch: 5, Valid Cost: 3.193, Acc: 0.225\n",
            "Epoch: 6, Train Cost: 3.042\n",
            "Epoch: 6, Valid Cost: 3.076, Acc: 0.247\n",
            "Epoch: 7, Train Cost: 2.913\n",
            "Epoch: 7, Valid Cost: 2.946, Acc: 0.270\n",
            "Epoch: 8, Train Cost: 2.798\n",
            "Epoch: 8, Valid Cost: 2.840, Acc: 0.295\n",
            "Epoch: 9, Train Cost: 2.692\n",
            "Epoch: 9, Valid Cost: 2.730, Acc: 0.310\n",
            "Epoch: 10, Train Cost: 2.587\n",
            "Epoch: 10, Valid Cost: 2.647, Acc: 0.325\n",
            "Epoch: 11, Train Cost: 2.501\n",
            "Epoch: 11, Valid Cost: 2.632, Acc: 0.329\n",
            "Epoch: 12, Train Cost: 2.426\n",
            "Epoch: 12, Valid Cost: 2.598, Acc: 0.345\n",
            "Epoch: 13, Train Cost: 2.345\n",
            "Epoch: 13, Valid Cost: 2.453, Acc: 0.369\n",
            "Epoch: 14, Train Cost: 2.272\n",
            "Epoch: 14, Valid Cost: 2.374, Acc: 0.384\n",
            "Epoch: 15, Train Cost: 2.210\n",
            "Epoch: 15, Valid Cost: 2.352, Acc: 0.389\n",
            "Epoch: 16, Train Cost: 2.139\n",
            "Epoch: 16, Valid Cost: 2.325, Acc: 0.399\n",
            "Epoch: 17, Train Cost: 2.088\n",
            "Epoch: 17, Valid Cost: 2.267, Acc: 0.412\n",
            "Epoch: 18, Train Cost: 2.026\n",
            "Epoch: 18, Valid Cost: 2.168, Acc: 0.430\n",
            "Epoch: 19, Train Cost: 1.967\n",
            "Epoch: 19, Valid Cost: 2.258, Acc: 0.413\n",
            "Epoch: 20, Train Cost: 1.926\n",
            "Epoch: 20, Valid Cost: 2.192, Acc: 0.425\n",
            "Epoch: 21, Train Cost: 1.869\n",
            "Epoch: 21, Valid Cost: 2.152, Acc: 0.435\n",
            "Epoch: 22, Train Cost: 1.818\n",
            "Epoch: 22, Valid Cost: 2.076, Acc: 0.447\n",
            "Epoch: 23, Train Cost: 1.776\n",
            "Epoch: 23, Valid Cost: 2.038, Acc: 0.460\n",
            "Epoch: 24, Train Cost: 1.732\n",
            "Epoch: 24, Valid Cost: 2.016, Acc: 0.464\n",
            "Epoch: 25, Train Cost: 1.686\n",
            "Epoch: 25, Valid Cost: 2.015, Acc: 0.466\n",
            "Epoch: 26, Train Cost: 1.647\n",
            "Epoch: 26, Valid Cost: 2.039, Acc: 0.457\n",
            "Epoch: 27, Train Cost: 1.606\n",
            "Epoch: 27, Valid Cost: 1.946, Acc: 0.477\n",
            "Epoch: 28, Train Cost: 1.562\n",
            "Epoch: 28, Valid Cost: 1.925, Acc: 0.489\n",
            "Epoch: 29, Train Cost: 1.535\n",
            "Epoch: 29, Valid Cost: 1.977, Acc: 0.476\n",
            "Epoch: 30, Train Cost: 1.484\n",
            "Epoch: 30, Valid Cost: 1.894, Acc: 0.500\n",
            "Epoch: 31, Train Cost: 1.453\n",
            "Epoch: 31, Valid Cost: 1.929, Acc: 0.489\n",
            "Epoch: 32, Train Cost: 1.416\n",
            "Epoch: 32, Valid Cost: 1.968, Acc: 0.491\n",
            "Epoch: 33, Train Cost: 1.371\n",
            "Epoch: 33, Valid Cost: 1.902, Acc: 0.497\n",
            "Epoch: 34, Train Cost: 1.348\n",
            "Epoch: 34, Valid Cost: 1.863, Acc: 0.502\n",
            "Epoch: 35, Train Cost: 1.317\n",
            "Epoch: 35, Valid Cost: 1.882, Acc: 0.499\n",
            "Epoch: 36, Train Cost: 1.284\n",
            "Epoch: 36, Valid Cost: 1.800, Acc: 0.518\n",
            "Epoch: 37, Train Cost: 1.251\n",
            "Epoch: 37, Valid Cost: 1.797, Acc: 0.520\n",
            "Epoch: 38, Train Cost: 1.229\n",
            "Epoch: 38, Valid Cost: 1.818, Acc: 0.520\n",
            "Epoch: 39, Train Cost: 1.185\n",
            "Epoch: 39, Valid Cost: 1.782, Acc: 0.525\n",
            "Epoch: 40, Train Cost: 1.160\n",
            "Epoch: 40, Valid Cost: 1.730, Acc: 0.537\n",
            "Epoch: 41, Train Cost: 1.136\n",
            "Epoch: 41, Valid Cost: 1.715, Acc: 0.544\n",
            "Epoch: 42, Train Cost: 1.110\n",
            "Epoch: 42, Valid Cost: 1.754, Acc: 0.530\n",
            "Epoch: 43, Train Cost: 1.079\n",
            "Epoch: 43, Valid Cost: 1.757, Acc: 0.534\n",
            "Epoch: 44, Train Cost: 1.055\n",
            "Epoch: 44, Valid Cost: 1.718, Acc: 0.544\n",
            "Epoch: 45, Train Cost: 1.022\n",
            "Epoch: 45, Valid Cost: 1.713, Acc: 0.543\n",
            "Epoch: 46, Train Cost: 0.994\n",
            "Epoch: 46, Valid Cost: 1.677, Acc: 0.552\n",
            "Epoch: 47, Train Cost: 0.973\n",
            "Epoch: 47, Valid Cost: 1.749, Acc: 0.538\n",
            "Epoch: 48, Train Cost: 0.941\n",
            "Epoch: 48, Valid Cost: 1.751, Acc: 0.536\n",
            "Epoch: 49, Train Cost: 0.916\n",
            "Epoch: 49, Valid Cost: 1.677, Acc: 0.552\n",
            "Epoch: 50, Train Cost: 0.905\n",
            "Epoch: 50, Valid Cost: 1.725, Acc: 0.550\n"
          ]
        }
      ]
    },
    {
      "cell_type": "markdown",
      "source": [
        "#**Plot**"
      ],
      "metadata": {
        "id": "rk7cLBNW7iEi"
      }
    },
    {
      "cell_type": "code",
      "source": [
        "import matplotlib.pyplot as plt\n",
        "%matplotlib inline\n",
        "result = result_list.T\n",
        "epoch = result[0]\n",
        "train_loss = result[1]\n",
        "val_loss = result[2]\n",
        "accuracy = result[3]\n",
        "\n",
        "fig, ax1 = plt.subplots(figsize=(10,7))\n",
        "ax1.set_xlim(1, 50)\n",
        "ax1.set_ylim(0, 4)\n",
        "ax1.tick_params(labelsize=16)\n",
        "ax1.set_xlabel(\"Epoch\", fontsize=22)\n",
        "ax1.set_ylabel(\"Cost\", fontsize=22)\n",
        "ax1.plot(epoch, train_loss, color=\"#ce1021\", label=\"Train\")\n",
        "ax1.plot(epoch, val_loss, color=\"#5ab639\", label=\"Val\")\n",
        "\n",
        "ax2 = ax1.twinx()\n",
        "ax2.set_ylim(0, 1)\n",
        "ax2.tick_params(labelsize=16)\n",
        "ax2.set_ylabel(\"Accuracy\", fontsize=22)\n",
        "ax2.plot(epoch, accuracy, color=\"#0086ce\", label=\"Accuracy\")\n",
        "\n",
        "h1, l1 = ax1.get_legend_handles_labels()\n",
        "h2, l2 = ax2.get_legend_handles_labels()\n",
        "ax1.legend(h1+h2, l1+l2, fontsize=18, loc='upper right')\n",
        "\n",
        "plt.show()"
      ],
      "metadata": {
        "colab": {
          "base_uri": "https://localhost:8080/",
          "height": 463
        },
        "id": "A1yLRMZJ6E66",
        "outputId": "98436e1f-c88b-4784-bd60-53967e58ab2b"
      },
      "execution_count": null,
      "outputs": [
        {
          "output_type": "display_data",
          "data": {
            "image/png": "[encoded data removed]",
            "text/plain": [
              "<Figure size 720x504 with 2 Axes>"
            ]
          },
          "metadata": {
            "needs_background": "light"
          }
        }
      ]
    },
    {
      "cell_type": "markdown",
      "source": [
        "#**Image classification on validation data**"
      ],
      "metadata": {
        "id": "dflPKNdS72c_"
      }
    },
    {
      "cell_type": "code",
      "source": [
        "from PIL import Image\n",
        "device = torch.device('cuda' if torch.cuda.is_available() else 'cpu')\n",
        "\n",
        "cifar_val = torchvision.datasets.CIFAR100(root=\"CIFAR100\", download=False, train=False, transform=None)\n",
        "images, labels=[], []\n",
        "for sample in cifar_val:\n",
        "  image, label = sample\n",
        "  images.append(image)\n",
        "  labels.append(label)\n",
        "\n",
        "idx = 51\n",
        "img_src = images[idx]\n",
        "plt.imshow(img_src)\n",
        "label = labels[idx]\n",
        "\n",
        "trans = transforms.Compose([transforms.Resize((160, 160)), transforms.ToTensor()])\n",
        "img = trans(img_src)\n",
        "img_batch = img[None]\n",
        "\n",
        "model.eval()\n",
        "torch.backends.cudnn.benchmark = True\n",
        "\n",
        "with torch.cuda.amp.autocast():\n",
        "  prediction = model(img_batch.to(device))\n",
        "idx = torch.argmax(prediction[0])\n",
        "print(\"Pred: \", cifar_classes[idx])\n",
        "print(\"Correct: \", cifar_classes[label])"
      ],
      "metadata": {
        "id": "_WlI9StHx6ZX",
        "colab": {
          "base_uri": "https://localhost:8080/",
          "height": 301
        },
        "outputId": "0a10da1f-e97d-4361-b940-10411c6709f9"
      },
      "execution_count": null,
      "outputs": [
        {
          "output_type": "stream",
          "name": "stdout",
          "text": [
            "Pred:  bee\n",
            "Correct:  bee\n"
          ]
        },
        {
          "output_type": "display_data",
          "data": {
            "image/png": "[encoded data removed]",
            "text/plain": [
              "<Figure size 432x288 with 1 Axes>"
            ]
          },
          "metadata": {
            "needs_background": "light"
          }
        }
      ]
    }
  ]
}